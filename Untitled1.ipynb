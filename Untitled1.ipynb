{
 "cells": [
  {
   "cell_type": "code",
   "execution_count": 72,
   "metadata": {},
   "outputs": [],
   "source": [
    "from faker import Faker\n",
    "import pymysql\n",
    "\n",
    "# import os           it is used for finding the location of the file\n",
    "\n",
    "# os.getcwd()"
   ]
  },
  {
   "cell_type": "code",
   "execution_count": null,
   "metadata": {},
   "outputs": [],
   "source": []
  },
  {
   "cell_type": "code",
   "execution_count": 73,
   "metadata": {},
   "outputs": [],
   "source": [
    "fake = Faker()\n"
   ]
  },
  {
   "cell_type": "code",
   "execution_count": 74,
   "metadata": {},
   "outputs": [],
   "source": [
    "# print(f'name:{faker.name()}')name = []\n",
    "name = []\n",
    "name_count = 5\n",
    "\n",
    "for i in range(name_count):\n",
    "    i = fake.name()\n",
    "    name.append(i)\n",
    "    \n",
    "    \n",
    "    \n",
    "email = []\n",
    "email_count = 5\n",
    "\n",
    "for i2 in range(email_count):\n",
    "    i2 = fake.email()\n",
    "    email.append(i2)\n",
    "    \n",
    "\n",
    "            \n",
    "password = []\n",
    "password_count = 5\n",
    "\n",
    "for i3 in range(password_count):\n",
    "    i3 = fake.password()\n",
    "    password.append(i3)\n",
    "    "
   ]
  },
  {
   "cell_type": "code",
   "execution_count": 75,
   "metadata": {},
   "outputs": [
    {
     "name": "stdout",
     "output_type": "stream",
     "text": [
      "['Mark Davis', 'Jennifer Butler', 'Michelle Alvarez', 'Joshua Marquez', 'Dr. Cheyenne Gonzales']\n"
     ]
    }
   ],
   "source": [
    "print(name)"
   ]
  },
  {
   "cell_type": "code",
   "execution_count": 76,
   "metadata": {},
   "outputs": [
    {
     "name": "stdout",
     "output_type": "stream",
     "text": [
      "['vmorgan@example.net', 'caitlinkeith@example.org', 'stevensmith@example.org', 'cynthia15@example.org', 'nmccann@example.net']\n"
     ]
    }
   ],
   "source": [
    "print(email)   "
   ]
  },
  {
   "cell_type": "code",
   "execution_count": 77,
   "metadata": {},
   "outputs": [
    {
     "name": "stdout",
     "output_type": "stream",
     "text": [
      "['DL2UtDOo#K', '#lb5jUSuV4', 'uCQ*4yLbfr', '%+9rS+hj%G', '^VucCo8857']\n"
     ]
    }
   ],
   "source": [
    "print(password)    "
   ]
  },
  {
   "cell_type": "code",
   "execution_count": 78,
   "metadata": {},
   "outputs": [],
   "source": [
    "# ============================================================================================="
   ]
  },
  {
   "cell_type": "code",
   "execution_count": null,
   "metadata": {},
   "outputs": [],
   "source": [
    "  "
   ]
  },
  {
   "cell_type": "code",
   "execution_count": 79,
   "metadata": {},
   "outputs": [],
   "source": [
    "conn = pymysql.connect(host='localhost', user='root', passwd='sam245', database='dummy_data')"
   ]
  },
  {
   "cell_type": "code",
   "execution_count": 80,
   "metadata": {},
   "outputs": [],
   "source": [
    "cur = conn.cursor()"
   ]
  },
  {
   "cell_type": "code",
   "execution_count": 81,
   "metadata": {},
   "outputs": [
    {
     "name": "stdout",
     "output_type": "stream",
     "text": [
      "(('transaction',), ('transaction_detail',), ('users',))\n"
     ]
    }
   ],
   "source": [
    "cur.execute('show tables;')\n",
    "print(cur.fetchall())"
   ]
  },
  {
   "cell_type": "code",
   "execution_count": 82,
   "metadata": {},
   "outputs": [],
   "source": [
    "cur.execute('select * from transaction;')\n",
    "transaction = (cur.fetchall())\n",
    "# print(transaction)"
   ]
  },
  {
   "cell_type": "code",
   "execution_count": 83,
   "metadata": {},
   "outputs": [],
   "source": [
    "cur.execute('select * from transaction_detail;')\n",
    "transaction_detail = (cur.fetchall())\n",
    "# print(transaction_detail)"
   ]
  },
  {
   "cell_type": "code",
   "execution_count": 84,
   "metadata": {},
   "outputs": [],
   "source": [
    "cur.execute('select * from users;')\n",
    "users = (cur.fetchall())\n",
    "# print(users)"
   ]
  },
  {
   "cell_type": "code",
   "execution_count": 85,
   "metadata": {},
   "outputs": [
    {
     "data": {
      "text/plain": [
       "'C:\\\\Users\\\\HP'"
      ]
     },
     "execution_count": 85,
     "metadata": {},
     "output_type": "execute_result"
    }
   ],
   "source": []
  },
  {
   "cell_type": "code",
   "execution_count": 86,
   "metadata": {},
   "outputs": [],
   "source": [
    "\n",
    "# user_id= int(input('Enter the user_id: '))\n",
    "\n",
    "# transaction_date = input('Enter date:')\n",
    "\n",
    "# total_amount = int(input('Enter the total_amount:')) \n",
    "\n",
    "# cur.execute(f\"insert into transaction(User_id,transaction_date,Total_amount) values({user_id},'{transaction_date}',{total_amount})\");\n",
    "\n"
   ]
  },
  {
   "cell_type": "code",
   "execution_count": 137,
   "metadata": {},
   "outputs": [],
   "source": [
    "# transaction_id= int(input('Enter the Transaction_id: '))\n",
    "\n",
    "# Item_name = input('Enter item_name:')\n",
    "\n",
    "# Quantity = int(input('Enter the Quantity:')) \n",
    "\n",
    "# price = int(input('Enter the price:'))\n",
    "\n",
    "# cur.execute(f\"insert into transaction_detail(Transaction_id,Item_name,Quantity,Price) values({transaction_id},'{Item_name}',{Quantity},{price})\");\n",
    "\n",
    "\n"
   ]
  },
  {
   "cell_type": "code",
   "execution_count": 138,
   "metadata": {},
   "outputs": [],
   "source": [
    "\n",
    "# names = name\n",
    "\n",
    "# emails = email\n",
    "\n",
    "# phone_no = int(input(\"Enter the number:\"))\n",
    "\n",
    "# passwords = input('Enter the password:')\n",
    "# cur.execute(f\"insert into users(Name,Email,Phone_no,Password) values('{names[1]}','{emails[4]}',{phone_no},'{passwords}')\");\n",
    "\n"
   ]
  },
  {
   "cell_type": "code",
   "execution_count": 142,
   "metadata": {},
   "outputs": [],
   "source": [
    "cur.execute('select * from transaction;')\n",
    "transaction = (cur.fetchall())\n",
    "# print(transaction)"
   ]
  },
  {
   "cell_type": "code",
   "execution_count": 141,
   "metadata": {},
   "outputs": [],
   "source": [
    "cur.execute('select * from transaction_detail;')\n",
    "transaction_detail = (cur.fetchall())\n",
    "# print(transaction_detail)\n",
    "conn.commit()"
   ]
  },
  {
   "cell_type": "code",
   "execution_count": 140,
   "metadata": {},
   "outputs": [],
   "source": [
    "cur.execute('select * from users;')\n",
    "users = (cur.fetchall())\n",
    "# print(users)\n",
    "\n",
    "conn.commit()"
   ]
  },
  {
   "cell_type": "code",
   "execution_count": null,
   "metadata": {},
   "outputs": [],
   "source": []
  },
  {
   "cell_type": "code",
   "execution_count": null,
   "metadata": {},
   "outputs": [],
   "source": [
    "\n",
    "\n"
   ]
  },
  {
   "cell_type": "code",
   "execution_count": null,
   "metadata": {},
   "outputs": [],
   "source": []
  },
  {
   "cell_type": "code",
   "execution_count": null,
   "metadata": {},
   "outputs": [],
   "source": []
  },
  {
   "cell_type": "code",
   "execution_count": null,
   "metadata": {},
   "outputs": [],
   "source": [
    "\n"
   ]
  },
  {
   "cell_type": "code",
   "execution_count": null,
   "metadata": {},
   "outputs": [],
   "source": []
  },
  {
   "cell_type": "markdown",
   "metadata": {},
   "source": []
  },
  {
   "cell_type": "code",
   "execution_count": 25,
   "metadata": {},
   "outputs": [],
   "source": []
  },
  {
   "cell_type": "code",
   "execution_count": null,
   "metadata": {},
   "outputs": [],
   "source": []
  },
  {
   "cell_type": "code",
   "execution_count": null,
   "metadata": {},
   "outputs": [],
   "source": []
  },
  {
   "cell_type": "code",
   "execution_count": null,
   "metadata": {},
   "outputs": [],
   "source": []
  }
 ],
 "metadata": {
  "kernelspec": {
   "display_name": "Python 3",
   "language": "python",
   "name": "python3"
  },
  "language_info": {
   "codemirror_mode": {
    "name": "ipython",
    "version": 3
   },
   "file_extension": ".py",
   "mimetype": "text/x-python",
   "name": "python",
   "nbconvert_exporter": "python",
   "pygments_lexer": "ipython3",
   "version": "3.9.13"
  }
 },
 "nbformat": 4,
 "nbformat_minor": 4
}
