{
 "cells": [
  {
   "cell_type": "code",
   "execution_count": 61,
   "metadata": {},
   "outputs": [],
   "source": [
    "import numpy as np\n",
    "import pandas as pd\n",
    "from faker import Faker\n",
    "import pymysql\n"
   ]
  },
  {
   "cell_type": "code",
   "execution_count": 3,
   "metadata": {},
   "outputs": [],
   "source": [
    "fake = Faker()\n"
   ]
  },
  {
   "cell_type": "code",
   "execution_count": 13,
   "metadata": {},
   "outputs": [],
   "source": [
    "# print(f'name:{faker.name()}')name = []\n",
    "name = []\n",
    "name_count = 5\n",
    "\n",
    "for i in range(name_count):\n",
    "    i = fake.name()\n",
    "    name.append(i)\n",
    "    \n",
    "    \n",
    "    \n",
    "email = []\n",
    "email_count = 5\n",
    "\n",
    "for i2 in range(email_count):\n",
    "    i2 = fake.email()\n",
    "    email.append(i2)\n",
    "    \n",
    "\n",
    "            \n",
    "password = []\n",
    "password_count = 5\n",
    "\n",
    "for i3 in range(password_count):\n",
    "    i3 = fake.password()\n",
    "    password.append(i3)\n",
    "    "
   ]
  },
  {
   "cell_type": "code",
   "execution_count": 14,
   "metadata": {},
   "outputs": [
    {
     "name": "stdout",
     "output_type": "stream",
     "text": [
      "['Melissa Norman', 'Tonya Perez', 'Penny Payne', 'Sherry Johnson', 'Breanna Hernandez']\n"
     ]
    }
   ],
   "source": [
    "print(name)"
   ]
  },
  {
   "cell_type": "code",
   "execution_count": 15,
   "metadata": {},
   "outputs": [
    {
     "name": "stdout",
     "output_type": "stream",
     "text": [
      "['darlenelong@example.net', 'julia81@example.com', 'john23@example.org', 'kjohnson@example.net', 'tiffany77@example.net']\n"
     ]
    }
   ],
   "source": [
    "print(email)   "
   ]
  },
  {
   "cell_type": "code",
   "execution_count": 16,
   "metadata": {},
   "outputs": [
    {
     "name": "stdout",
     "output_type": "stream",
     "text": [
      "['9v&#V^nj#x', '8)37IpKfst', '@ft_rAyA8I', '5ouTczF@_@', 'i_1O2nns)L']\n"
     ]
    }
   ],
   "source": [
    "print(password)    "
   ]
  },
  {
   "cell_type": "code",
   "execution_count": null,
   "metadata": {},
   "outputs": [],
   "source": [
    "# ============================================================================================="
   ]
  },
  {
   "cell_type": "code",
   "execution_count": null,
   "metadata": {},
   "outputs": [],
   "source": [
    "  "
   ]
  },
  {
   "cell_type": "code",
   "execution_count": 33,
   "metadata": {},
   "outputs": [],
   "source": [
    " conn = pymysql.connect(host='localhost', user='root', passwd='sam245', database='dummy_data')"
   ]
  },
  {
   "cell_type": "code",
   "execution_count": 34,
   "metadata": {},
   "outputs": [],
   "source": [
    "cur = conn.cursor()"
   ]
  },
  {
   "cell_type": "code",
   "execution_count": 35,
   "metadata": {},
   "outputs": [
    {
     "name": "stdout",
     "output_type": "stream",
     "text": [
      "(('transaction',), ('transaction_detail',), ('users',))\n"
     ]
    }
   ],
   "source": [
    "cur.execute('show tables;')\n",
    "print(cur.fetchall())"
   ]
  },
  {
   "cell_type": "code",
   "execution_count": 36,
   "metadata": {},
   "outputs": [],
   "source": [
    "cur.execute('select * from transaction;')\n",
    "transaction = (cur.fetchall())\n",
    "# print(transaction)"
   ]
  },
  {
   "cell_type": "code",
   "execution_count": 37,
   "metadata": {},
   "outputs": [],
   "source": [
    "cur.execute('select * from transaction_detail;')\n",
    "transaction_detail = (cur.fetchall())\n",
    "# print(transaction_detail)"
   ]
  },
  {
   "cell_type": "code",
   "execution_count": 38,
   "metadata": {},
   "outputs": [],
   "source": [
    "cur.execute('select * from users;')\n",
    "users = (cur.fetchall())\n",
    "# print(users)"
   ]
  },
  {
   "cell_type": "code",
   "execution_count": 65,
   "metadata": {},
   "outputs": [
    {
     "data": {
      "text/plain": [
       "'C:\\\\Users\\\\HP'"
      ]
     },
     "execution_count": 65,
     "metadata": {},
     "output_type": "execute_result"
    }
   ],
   "source": [
    "import os\n",
    "\n",
    "os.getcwd()"
   ]
  },
  {
   "cell_type": "code",
   "execution_count": 45,
   "metadata": {},
   "outputs": [
    {
     "data": {
      "text/plain": [
       "<function print>"
      ]
     },
     "execution_count": 45,
     "metadata": {},
     "output_type": "execute_result"
    }
   ],
   "source": []
  },
  {
   "cell_type": "code",
   "execution_count": 59,
   "metadata": {},
   "outputs": [
    {
     "name": "stdin",
     "output_type": "stream",
     "text": [
      "Enter the user_id:  105\n",
      "Enter date: june\n",
      "Enter the total_amount: 6000\n"
     ]
    }
   ],
   "source": [
    "user_id= int(input('Enter the user_id: '))\n",
    "\n",
    "transaction_date = input('Enter date:')\n",
    "\n",
    "total_amount = int(input('Enter the total_amount:')) \n",
    "\n",
    "cur.execute(f\"insert into transaction(User_id,transaction_date,Total_amount) values({user_id},'{transaction_date}',{total_amount})\");\n"
   ]
  },
  {
   "cell_type": "code",
   "execution_count": 62,
   "metadata": {},
   "outputs": [
    {
     "name": "stdout",
     "output_type": "stream",
     "text": [
      "((1, 101, 'january', 10000), (2, 101, 'january', 10000), (3, 102, 'april', 5000), (4, 103, 'march', 8000), (5, 104, 'may', 13000), (6, 105, 'june', 6000))\n"
     ]
    }
   ],
   "source": [
    "cur.execute('select * from transaction;')\n",
    "transaction = (cur.fetchall())\n",
    "print(transaction)"
   ]
  },
  {
   "cell_type": "code",
   "execution_count": null,
   "metadata": {},
   "outputs": [],
   "source": []
  },
  {
   "cell_type": "code",
   "execution_count": null,
   "metadata": {},
   "outputs": [],
   "source": [
    "# https://drive.google.com/file/d/1McV9RnNJ-D2PcLuMs2ecQOwFKw-a7z8R/view?usp=share_link"
   ]
  },
  {
   "cell_type": "code",
   "execution_count": null,
   "metadata": {},
   "outputs": [],
   "source": []
  },
  {
   "cell_type": "code",
   "execution_count": null,
   "metadata": {},
   "outputs": [],
   "source": []
  },
  {
   "cell_type": "code",
   "execution_count": null,
   "metadata": {},
   "outputs": [],
   "source": []
  },
  {
   "cell_type": "code",
   "execution_count": 17,
   "metadata": {},
   "outputs": [],
   "source": []
  },
  {
   "cell_type": "code",
   "execution_count": null,
   "metadata": {},
   "outputs": [],
   "source": []
  },
  {
   "cell_type": "code",
   "execution_count": 20,
   "metadata": {},
   "outputs": [],
   "source": []
  },
  {
   "cell_type": "code",
   "execution_count": 25,
   "metadata": {},
   "outputs": [],
   "source": []
  },
  {
   "cell_type": "code",
   "execution_count": null,
   "metadata": {},
   "outputs": [],
   "source": []
  },
  {
   "cell_type": "code",
   "execution_count": null,
   "metadata": {},
   "outputs": [],
   "source": []
  },
  {
   "cell_type": "code",
   "execution_count": null,
   "metadata": {},
   "outputs": [],
   "source": []
  }
 ],
 "metadata": {
  "kernelspec": {
   "display_name": "Python 3",
   "language": "python",
   "name": "python3"
  },
  "language_info": {
   "codemirror_mode": {
    "name": "ipython",
    "version": 3
   },
   "file_extension": ".py",
   "mimetype": "text/x-python",
   "name": "python",
   "nbconvert_exporter": "python",
   "pygments_lexer": "ipython3",
   "version": "3.7.6"
  }
 },
 "nbformat": 4,
 "nbformat_minor": 4
}
